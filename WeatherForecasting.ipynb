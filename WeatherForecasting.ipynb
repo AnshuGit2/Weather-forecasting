{
 "cells": [
  {
   "cell_type": "markdown",
   "metadata": {},
   "source": [
    "## Weather forecasting involves using science and technology to predict atmospheric conditions for specific locations and times. While informal weather prediction has a long history, formal forecasting began in the 19th century. Modern forecasts rely on computer models that consider various factors, but human expertise is crucial in selecting the best model. Forecast accuracy is limited due to the complexity of the atmosphere, computational challenges, measurement errors, and incomplete understanding. Weather warnings protect lives and property, and forecasts impact agriculture, commodity trading, utility demand estimates, and daily clothing choices. Weather forecasting also has significant economic value. In 2009, the US invested $5.1 billion in weather forecasting, generating estimated benefits six times that amount."
   ]
  },
  {
   "cell_type": "markdown",
   "metadata": {},
   "source": [
    "# Exploratory Data Analysis"
   ]
  },
  {
   "cell_type": "code",
   "execution_count": null,
   "metadata": {
    "_cell_guid": "b1076dfc-b9ad-4769-8c92-a6c4dae69d19",
    "_uuid": "8f2839f25d086af736a60e9eeb907d3b93b6e0e5",
    "execution": {
     "iopub.execute_input": "2021-08-18T18:23:27.05733Z",
     "iopub.status.busy": "2021-08-18T18:23:27.056922Z",
     "iopub.status.idle": "2021-08-18T18:23:27.079891Z",
     "shell.execute_reply": "2021-08-18T18:23:27.078761Z",
     "shell.execute_reply.started": "2021-08-18T18:23:27.057245Z"
    }
   },
   "outputs": [],
   "source": [
    "# This Python 3 environment comes with many helpful analytics libraries installed\n",
    "# It is defined by the kaggle/python Docker image: https://github.com/kaggle/docker-python\n",
    "# For example, here's several helpful packages to load\n",
    "\n",
    "import numpy as np # linear algebra\n",
    "import pandas as pd # data processing, CSV file I/O (e.g. pd.read_csv)\n",
    "\n",
    "# Input data files are available in the read-only \"../input/\" directory\n",
    "# For example, running this (by clicking run or pressing Shift+Enter) will list all files under the input directory\n",
    "\n",
    "import os\n",
    "for dirname, _, filenames in os.walk('/kaggle/input'):\n",
    "    for filename in filenames:\n",
    "        print(os.path.join(dirname, filename))\n",
    "\n",
    "# You can write up to 20GB to the current directory (/kaggle/working/) that gets preserved as output when you create a version using \"Save & Run All\" \n",
    "# You can also write temporary files to /kaggle/temp/, but they won't be saved outside of the current session"
   ]
  },
  {
   "cell_type": "code",
   "execution_count": null,
   "metadata": {
    "execution": {
     "iopub.execute_input": "2021-08-18T18:23:27.081707Z",
     "iopub.status.busy": "2021-08-18T18:23:27.081408Z",
     "iopub.status.idle": "2021-08-18T18:23:28.044156Z",
     "shell.execute_reply": "2021-08-18T18:23:28.043422Z",
     "shell.execute_reply.started": "2021-08-18T18:23:27.081674Z"
    }
   },
   "outputs": [],
   "source": [
    "# Importing the libraries\n",
    "import numpy as np\n",
    "import matplotlib.pyplot as plt\n",
    "import pandas as pd\n",
    "import seaborn as sns"
   ]
  },
  {
   "cell_type": "code",
   "execution_count": null,
   "metadata": {
    "execution": {
     "iopub.execute_input": "2021-08-18T18:23:28.049823Z",
     "iopub.status.busy": "2021-08-18T18:23:28.048058Z",
     "iopub.status.idle": "2021-08-18T18:23:28.127325Z",
     "shell.execute_reply": "2021-08-18T18:23:28.126664Z",
     "shell.execute_reply.started": "2021-08-18T18:23:28.049787Z"
    }
   },
   "outputs": [],
   "source": [
    "# Importing the data set\n",
    "df = pd.read_csv('/kaggle/input/temperature-forecast-project-using-ml/temp.csv')"
   ]
  },
  {
   "cell_type": "code",
   "execution_count": null,
   "metadata": {
    "execution": {
     "iopub.execute_input": "2021-08-18T18:23:28.132749Z",
     "iopub.status.busy": "2021-08-18T18:23:28.131095Z",
     "iopub.status.idle": "2021-08-18T18:23:28.180794Z",
     "shell.execute_reply": "2021-08-18T18:23:28.180091Z",
     "shell.execute_reply.started": "2021-08-18T18:23:28.132717Z"
    }
   },
   "outputs": [],
   "source": [
    "pd.set_option('display.max_row',25) #Affiche au plus 25 éléments dans les résultats de pandas\n",
    "pd.set_option('display.max_column',25) #Affiche au plus 25 éléments dans les résultats de pandas\n",
    "df.head()"
   ]
  },
  {
   "cell_type": "code",
   "execution_count": null,
   "metadata": {
    "execution": {
     "iopub.execute_input": "2021-08-18T18:23:28.182815Z",
     "iopub.status.busy": "2021-08-18T18:23:28.182504Z",
     "iopub.status.idle": "2021-08-18T18:23:28.19214Z",
     "shell.execute_reply": "2021-08-18T18:23:28.191028Z",
     "shell.execute_reply.started": "2021-08-18T18:23:28.182788Z"
    }
   },
   "outputs": [],
   "source": [
    "df.dtypes.value_counts() # Compte les nombre de types de variables"
   ]
  },
  {
   "cell_type": "code",
   "execution_count": null,
   "metadata": {
    "execution": {
     "iopub.execute_input": "2021-08-18T18:23:28.194198Z",
     "iopub.status.busy": "2021-08-18T18:23:28.193781Z",
     "iopub.status.idle": "2021-08-18T18:23:28.203297Z",
     "shell.execute_reply": "2021-08-18T18:23:28.202449Z",
     "shell.execute_reply.started": "2021-08-18T18:23:28.194158Z"
    }
   },
   "outputs": [],
   "source": [
    "df.shape"
   ]
  },
  {
   "cell_type": "code",
   "execution_count": null,
   "metadata": {
    "execution": {
     "iopub.execute_input": "2021-08-18T18:23:28.205451Z",
     "iopub.status.busy": "2021-08-18T18:23:28.20496Z",
     "iopub.status.idle": "2021-08-18T18:23:29.486239Z",
     "shell.execute_reply": "2021-08-18T18:23:29.485508Z",
     "shell.execute_reply.started": "2021-08-18T18:23:28.205399Z"
    }
   },
   "outputs": [],
   "source": [
    "plt.figure(figsize=(20,10))\n",
    "sns.heatmap(df.isna(),cbar=False)\n",
    "plt.show()\n",
    "print((df.isna().sum()/df.shape[0]*100).sort_values(ascending=False))"
   ]
  },
  {
   "cell_type": "code",
   "execution_count": null,
   "metadata": {
    "execution": {
     "iopub.execute_input": "2021-08-18T18:23:29.488796Z",
     "iopub.status.busy": "2021-08-18T18:23:29.488395Z",
     "iopub.status.idle": "2021-08-18T18:23:29.748354Z",
     "shell.execute_reply": "2021-08-18T18:23:29.747408Z",
     "shell.execute_reply.started": "2021-08-18T18:23:29.488767Z"
    }
   },
   "outputs": [],
   "source": [
    "plt.figure(figsize=(18, 6), dpi=80)\n",
    "plt.plot(df[\"Next_Tmax\"],label=\"Next_Tmax\")\n",
    "plt.plot(df[\"Next_Tmin\"],label=\"Next_Tmin\")\n",
    "plt.legend()\n",
    "plt.show()"
   ]
  },
  {
   "cell_type": "code",
   "execution_count": null,
   "metadata": {
    "execution": {
     "iopub.execute_input": "2021-08-18T18:23:29.750961Z",
     "iopub.status.busy": "2021-08-18T18:23:29.750402Z",
     "iopub.status.idle": "2021-08-18T18:23:30.436186Z",
     "shell.execute_reply": "2021-08-18T18:23:30.435294Z",
     "shell.execute_reply.started": "2021-08-18T18:23:29.75092Z"
    }
   },
   "outputs": [],
   "source": [
    "for col in [\"Next_Tmax\",\"Next_Tmin\"]:\n",
    "    plt.figure()\n",
    "    sns.displot(df[col],kind='kde')\n",
    "    plt.show()\n",
    "print(df[\"Next_Tmax\"].mean())\n",
    "print(df[\"Next_Tmax\"].std())\n",
    "print(df[\"Next_Tmin\"].mean())\n",
    "print(df[\"Next_Tmin\"].std())"
   ]
  },
  {
   "cell_type": "code",
   "execution_count": null,
   "metadata": {
    "execution": {
     "iopub.execute_input": "2021-08-18T18:23:30.437764Z",
     "iopub.status.busy": "2021-08-18T18:23:30.437459Z",
     "iopub.status.idle": "2021-08-18T18:23:31.272285Z",
     "shell.execute_reply": "2021-08-18T18:23:31.271592Z",
     "shell.execute_reply.started": "2021-08-18T18:23:30.437734Z"
    }
   },
   "outputs": [],
   "source": [
    "plt.figure()\n",
    "sns.heatmap(pd.crosstab(df['Next_Tmax'],df['Next_Tmin']))\n",
    "plt.show()"
   ]
  },
  {
   "cell_type": "code",
   "execution_count": null,
   "metadata": {
    "execution": {
     "iopub.execute_input": "2021-08-18T18:23:31.273692Z",
     "iopub.status.busy": "2021-08-18T18:23:31.273305Z",
     "iopub.status.idle": "2021-08-18T18:23:31.794245Z",
     "shell.execute_reply": "2021-08-18T18:23:31.79326Z",
     "shell.execute_reply.started": "2021-08-18T18:23:31.273665Z"
    }
   },
   "outputs": [],
   "source": [
    "sns.heatmap(df.corr())"
   ]
  },
  {
   "cell_type": "markdown",
   "metadata": {},
   "source": [
    "# Data preprocessing\n",
    "\n",
    "## Aim :\n",
    "- Deal with NaN\n",
    "- Encode qualitative features\n",
    "- Develop our first modelling strategy"
   ]
  },
  {
   "cell_type": "code",
   "execution_count": null,
   "metadata": {
    "execution": {
     "iopub.execute_input": "2021-08-18T18:23:31.795798Z",
     "iopub.status.busy": "2021-08-18T18:23:31.795495Z",
     "iopub.status.idle": "2021-08-18T18:23:31.838527Z",
     "shell.execute_reply": "2021-08-18T18:23:31.837593Z",
     "shell.execute_reply.started": "2021-08-18T18:23:31.79577Z"
    }
   },
   "outputs": [],
   "source": [
    "# Importing the data set\n",
    "df = pd.read_csv('/kaggle/input/temperature-forecast-project-using-ml/temp.csv')\n",
    "Save = df.copy()"
   ]
  },
  {
   "cell_type": "code",
   "execution_count": null,
   "metadata": {
    "execution": {
     "iopub.execute_input": "2021-08-18T18:23:31.840224Z",
     "iopub.status.busy": "2021-08-18T18:23:31.839939Z",
     "iopub.status.idle": "2021-08-18T18:23:31.84551Z",
     "shell.execute_reply": "2021-08-18T18:23:31.844362Z",
     "shell.execute_reply.started": "2021-08-18T18:23:31.840195Z"
    }
   },
   "outputs": [],
   "source": [
    "def feature_engineering(df):\n",
    "    df = df.drop([\"Date\"],axis=1)\n",
    "    print(df.dtypes.value_counts()) # Compte les nombre de types de variables\n",
    "    return(df)"
   ]
  },
  {
   "cell_type": "code",
   "execution_count": null,
   "metadata": {
    "execution": {
     "iopub.execute_input": "2021-08-18T18:23:31.847183Z",
     "iopub.status.busy": "2021-08-18T18:23:31.846799Z",
     "iopub.status.idle": "2021-08-18T18:23:31.856511Z",
     "shell.execute_reply": "2021-08-18T18:23:31.855402Z",
     "shell.execute_reply.started": "2021-08-18T18:23:31.847155Z"
    }
   },
   "outputs": [],
   "source": [
    "def imputation(df):\n",
    "    #df = df.fillna(-999)\n",
    "    df = df.dropna(axis=0)\n",
    "    return df"
   ]
  },
  {
   "cell_type": "code",
   "execution_count": null,
   "metadata": {
    "execution": {
     "iopub.execute_input": "2021-08-18T18:23:31.858305Z",
     "iopub.status.busy": "2021-08-18T18:23:31.857938Z",
     "iopub.status.idle": "2021-08-18T18:23:31.866833Z",
     "shell.execute_reply": "2021-08-18T18:23:31.865977Z",
     "shell.execute_reply.started": "2021-08-18T18:23:31.858277Z"
    }
   },
   "outputs": [],
   "source": [
    "def encodage(df):\n",
    "    return df"
   ]
  },
  {
   "cell_type": "code",
   "execution_count": null,
   "metadata": {
    "execution": {
     "iopub.execute_input": "2021-08-18T18:23:31.868183Z",
     "iopub.status.busy": "2021-08-18T18:23:31.867924Z",
     "iopub.status.idle": "2021-08-18T18:23:31.878588Z",
     "shell.execute_reply": "2021-08-18T18:23:31.877673Z",
     "shell.execute_reply.started": "2021-08-18T18:23:31.868158Z"
    }
   },
   "outputs": [],
   "source": [
    "def preprocessing(df):\n",
    "    df = imputation(df)\n",
    "    df = encodage(df)\n",
    "    df = feature_engineering(df)\n",
    "    \n",
    "    X = df.drop(['Next_Tmax','Next_Tmin'],axis=1)\n",
    "    y_max = df[\"Next_Tmax\"]\n",
    "    y_min = df[\"Next_Tmin\"]\n",
    "    \n",
    "    print(X.shape)\n",
    "    print(y_max.shape)\n",
    "    \n",
    "    return X,y_max,y_min"
   ]
  },
  {
   "cell_type": "code",
   "execution_count": null,
   "metadata": {
    "execution": {
     "iopub.execute_input": "2021-08-18T18:23:31.879917Z",
     "iopub.status.busy": "2021-08-18T18:23:31.879662Z",
     "iopub.status.idle": "2021-08-18T18:23:32.051932Z",
     "shell.execute_reply": "2021-08-18T18:23:32.051171Z",
     "shell.execute_reply.started": "2021-08-18T18:23:31.879892Z"
    }
   },
   "outputs": [],
   "source": [
    "from sklearn.model_selection import train_test_split\n",
    "trainset, testset = train_test_split(df, test_size=0.2, random_state=0)"
   ]
  },
  {
   "cell_type": "code",
   "execution_count": null,
   "metadata": {
    "execution": {
     "iopub.execute_input": "2021-08-18T18:23:32.053687Z",
     "iopub.status.busy": "2021-08-18T18:23:32.053086Z",
     "iopub.status.idle": "2021-08-18T18:23:32.073126Z",
     "shell.execute_reply": "2021-08-18T18:23:32.072125Z",
     "shell.execute_reply.started": "2021-08-18T18:23:32.053621Z"
    }
   },
   "outputs": [],
   "source": [
    "X_train, y_min_train, y_max_train = preprocessing(trainset)\n",
    "X_test, y_min_test, y_max_test = preprocessing(testset)"
   ]
  },
  {
   "cell_type": "markdown",
   "metadata": {},
   "source": [
    "# Modeling\n",
    "\n",
    "## Aim :\n",
    "- Standardise features\n",
    "- Define a regression model\n",
    "- Compute score and RMSE (in °C)"
   ]
  },
  {
   "cell_type": "markdown",
   "metadata": {},
   "source": [
    "## Part 1 - SGDRegressor"
   ]
  },
  {
   "cell_type": "code",
   "execution_count": null,
   "metadata": {
    "execution": {
     "iopub.execute_input": "2021-08-18T18:23:32.074825Z",
     "iopub.status.busy": "2021-08-18T18:23:32.074411Z",
     "iopub.status.idle": "2021-08-18T18:23:32.157502Z",
     "shell.execute_reply": "2021-08-18T18:23:32.156485Z",
     "shell.execute_reply.started": "2021-08-18T18:23:32.074786Z"
    }
   },
   "outputs": [],
   "source": [
    "from sklearn.pipeline import make_pipeline\n",
    "from sklearn.preprocessing import StandardScaler\n",
    "from sklearn.linear_model import SGDRegressor\n",
    "from sklearn.model_selection import cross_validate"
   ]
  },
  {
   "cell_type": "code",
   "execution_count": null,
   "metadata": {
    "execution": {
     "iopub.execute_input": "2021-08-18T18:23:32.159233Z",
     "iopub.status.busy": "2021-08-18T18:23:32.158846Z",
     "iopub.status.idle": "2021-08-18T18:23:32.612092Z",
     "shell.execute_reply": "2021-08-18T18:23:32.611023Z",
     "shell.execute_reply.started": "2021-08-18T18:23:32.159197Z"
    }
   },
   "outputs": [],
   "source": [
    "reg_max = make_pipeline(StandardScaler(),\n",
    "                    SGDRegressor(loss='squared_loss', penalty='l2', max_iter=1000, tol=1e-3))\n",
    "reg_max.fit(X_train, y_max_train)\n",
    "\n",
    "reg_min = make_pipeline(StandardScaler(),\n",
    "                    SGDRegressor(loss='squared_loss', penalty='l2', max_iter=1000, tol=1e-3))\n",
    "reg_min.fit(X_train, y_min_train)\n",
    "\n",
    "cv_results_min = cross_validate(reg_min, X_train, y_min_train, cv=5, scoring=('r2', \"neg_root_mean_squared_error\"), return_train_score=True)\n",
    "cv_results_max = cross_validate(reg_max, X_train, y_max_train, cv=5, scoring=('r2', \"neg_root_mean_squared_error\"), return_train_score=True)\n",
    "\n",
    "print('Pour le Next_Tmin :')\n",
    "print('Test RMSE :' , -cv_results_min['test_neg_root_mean_squared_error'].mean())\n",
    "print('Test r2 :' , cv_results_min['test_r2'].mean())\n",
    "print(\"Train RMSE :\" , -cv_results_min['train_neg_root_mean_squared_error'].mean())\n",
    "print(\"Train r2 :\" , cv_results_min['train_r2'].mean())\n",
    "print(\"*------------------------------------------*\")\n",
    "print('Pour le Next_Tmax :')\n",
    "print('Test RMSE :' , -cv_results_max['test_neg_root_mean_squared_error'].mean())\n",
    "print('Test r2 :' , cv_results_max['test_r2'].mean())\n",
    "print(\"Train RMSE :\" , -cv_results_max['train_neg_root_mean_squared_error'].mean())\n",
    "print(\"Train r2 :\" , cv_results_max['train_r2'].mean())"
   ]
  },
  {
   "cell_type": "code",
   "execution_count": null,
   "metadata": {
    "execution": {
     "iopub.execute_input": "2021-08-18T18:23:32.619343Z",
     "iopub.status.busy": "2021-08-18T18:23:32.616841Z",
     "iopub.status.idle": "2021-08-18T18:23:32.633391Z",
     "shell.execute_reply": "2021-08-18T18:23:32.632375Z",
     "shell.execute_reply.started": "2021-08-18T18:23:32.619292Z"
    }
   },
   "outputs": [],
   "source": [
    "Next_Tmin_predict = reg_min.predict(X_test)\n",
    "Next_Tmax_predict = reg_max.predict(X_test)"
   ]
  },
  {
   "cell_type": "code",
   "execution_count": null,
   "metadata": {
    "execution": {
     "iopub.execute_input": "2021-08-18T18:23:32.640884Z",
     "iopub.status.busy": "2021-08-18T18:23:32.638241Z",
     "iopub.status.idle": "2021-08-18T18:23:33.138505Z",
     "shell.execute_reply": "2021-08-18T18:23:33.137811Z",
     "shell.execute_reply.started": "2021-08-18T18:23:32.640834Z"
    }
   },
   "outputs": [],
   "source": [
    "plt.figure(figsize=(18,6))\n",
    "plt.plot(y_min_test.to_numpy(),label=\"Next_Tmin\")\n",
    "plt.plot(Next_Tmin_predict,label=\"Next_Tmin_predict\")\n",
    "plt.legend()\n",
    "plt.show()\n",
    "\n",
    "plt.figure(figsize=(18,6))\n",
    "plt.plot(y_max_test.to_numpy(),label=\"Next_Tmax\")\n",
    "plt.plot(Next_Tmax_predict,label=\"Next_Tmax_predict\")\n",
    "plt.legend()\n",
    "plt.show()"
   ]
  },
  {
   "cell_type": "markdown",
   "metadata": {},
   "source": [
    "## Part 2 - RandomForest"
   ]
  },
  {
   "cell_type": "code",
   "execution_count": null,
   "metadata": {
    "execution": {
     "iopub.execute_input": "2021-08-18T18:23:33.141545Z",
     "iopub.status.busy": "2021-08-18T18:23:33.141131Z",
     "iopub.status.idle": "2021-08-18T18:23:33.253186Z",
     "shell.execute_reply": "2021-08-18T18:23:33.252228Z",
     "shell.execute_reply.started": "2021-08-18T18:23:33.141518Z"
    }
   },
   "outputs": [],
   "source": [
    "from sklearn.ensemble import RandomForestRegressor\n",
    "from sklearn.model_selection import GridSearchCV\n",
    "# Create the parameter grid based on the results of random search \n",
    "param_grid = {\n",
    "    'bootstrap': [True],\n",
    "    'max_depth': [70, 130],\n",
    "    'max_features': [3, 6],\n",
    "    'min_samples_leaf': [2, 3],\n",
    "    'min_samples_split': [4, 8],\n",
    "    'n_estimators': [1000, 500]\n",
    "}\n",
    "# Create a based model\n",
    "rf = RandomForestRegressor()\n",
    "# Instantiate the grid search model\n",
    "grid_search = GridSearchCV(estimator = rf, param_grid = param_grid, \n",
    "                          cv = 3, n_jobs = -1, verbose = 2)"
   ]
  },
  {
   "cell_type": "code",
   "execution_count": null,
   "metadata": {
    "execution": {
     "iopub.execute_input": "2021-08-18T18:23:33.25532Z",
     "iopub.status.busy": "2021-08-18T18:23:33.254915Z",
     "iopub.status.idle": "2021-08-18T18:23:33.261507Z",
     "shell.execute_reply": "2021-08-18T18:23:33.26076Z",
     "shell.execute_reply.started": "2021-08-18T18:23:33.255273Z"
    }
   },
   "outputs": [],
   "source": [
    "def evaluate(model, test_features, test_labels):\n",
    "    predictions = model.predict(test_features)\n",
    "    errors = abs(predictions - test_labels)\n",
    "    mape = 100 * np.mean(errors / test_labels)\n",
    "    accuracy = 100 - mape\n",
    "    print('Model Performance')\n",
    "    print('Average Error: {:0.4f} degrees.'.format(np.mean(errors)))\n",
    "    print('Accuracy = {:0.2f}%.'.format(accuracy))\n",
    "    \n",
    "    return accuracy"
   ]
  },
  {
   "cell_type": "code",
   "execution_count": null,
   "metadata": {
    "execution": {
     "iopub.execute_input": "2021-08-18T18:23:33.263003Z",
     "iopub.status.busy": "2021-08-18T18:23:33.262739Z",
     "iopub.status.idle": "2021-08-18T18:29:08.501509Z",
     "shell.execute_reply": "2021-08-18T18:29:08.500436Z",
     "shell.execute_reply.started": "2021-08-18T18:23:33.262978Z"
    }
   },
   "outputs": [],
   "source": [
    "# Fit the grid search to the Max data\n",
    "\n",
    "grid_search.fit(X_train, y_max_train)\n",
    "print(grid_search.best_params_)\n",
    "best_grid = grid_search.best_estimator_\n",
    "grid_accuracy = evaluate(best_grid, X_test, y_max_test)"
   ]
  },
  {
   "cell_type": "code",
   "execution_count": null,
   "metadata": {
    "execution": {
     "iopub.execute_input": "2021-08-18T18:29:08.503388Z",
     "iopub.status.busy": "2021-08-18T18:29:08.503089Z",
     "iopub.status.idle": "2021-08-18T18:29:09.322053Z",
     "shell.execute_reply": "2021-08-18T18:29:09.321328Z",
     "shell.execute_reply.started": "2021-08-18T18:29:08.503353Z"
    }
   },
   "outputs": [],
   "source": [
    "base_model = RandomForestRegressor(n_estimators = 10, random_state = 42)\n",
    "base_model.fit(X_train, y_max_train)\n",
    "base_accuracy = evaluate(base_model, X_test, y_max_test)\n",
    "\n",
    "print('Improvement of {:0.2f}%.'.format( 100 * (grid_accuracy - base_accuracy) / base_accuracy))"
   ]
  },
  {
   "cell_type": "code",
   "execution_count": null,
   "metadata": {
    "execution": {
     "iopub.execute_input": "2021-08-18T18:29:09.323623Z",
     "iopub.status.busy": "2021-08-18T18:29:09.323179Z",
     "iopub.status.idle": "2021-08-18T18:34:41.497606Z",
     "shell.execute_reply": "2021-08-18T18:34:41.496557Z",
     "shell.execute_reply.started": "2021-08-18T18:29:09.323593Z"
    }
   },
   "outputs": [],
   "source": [
    "# Fit the grid search to the Min data\n",
    "\n",
    "grid_search.fit(X_train, y_min_train)\n",
    "print(grid_search.best_params_)\n",
    "best_grid = grid_search.best_estimator_\n",
    "grid_accuracy = evaluate(best_grid, X_test, y_min_test)"
   ]
  },
  {
   "cell_type": "code",
   "execution_count": null,
   "metadata": {
    "execution": {
     "iopub.execute_input": "2021-08-18T18:34:41.499176Z",
     "iopub.status.busy": "2021-08-18T18:34:41.498908Z",
     "iopub.status.idle": "2021-08-18T18:34:42.315873Z",
     "shell.execute_reply": "2021-08-18T18:34:42.315047Z",
     "shell.execute_reply.started": "2021-08-18T18:34:41.49915Z"
    }
   },
   "outputs": [],
   "source": [
    "base_model = RandomForestRegressor(n_estimators = 10, random_state = 42)\n",
    "base_model.fit(X_train, y_min_train)\n",
    "base_accuracy = evaluate(base_model, X_test, y_min_test)\n",
    "\n",
    "print('Improvement of {:0.2f}%.'.format( 100 * (grid_accuracy - base_accuracy) / base_accuracy))"
   ]
  },
  {
   "cell_type": "code",
   "execution_count": null,
   "metadata": {
    "execution": {
     "iopub.execute_input": "2021-08-18T18:34:42.317346Z",
     "iopub.status.busy": "2021-08-18T18:34:42.31707Z",
     "iopub.status.idle": "2021-08-18T18:35:19.664978Z",
     "shell.execute_reply": "2021-08-18T18:35:19.664016Z",
     "shell.execute_reply.started": "2021-08-18T18:34:42.317321Z"
    }
   },
   "outputs": [],
   "source": [
    "Next_Tmax_TreeRegressor = RandomForestRegressor(random_state = 42, \n",
    "                                                bootstrap=True, max_depth=110, max_features=4, \n",
    "                                                min_samples_leaf=2, min_samples_split=4, n_estimators=900)\n",
    "Next_Tmin_TreeRegressor = RandomForestRegressor(random_state = 42, \n",
    "                                                bootstrap=True, max_depth=70, max_features=6, \n",
    "                                                min_samples_leaf=2, min_samples_split=4, n_estimators=900)\n",
    "\n",
    "\n",
    "print(\"---Next_Tmax---\")\n",
    "Next_Tmax_TreeRegressor.fit(X_train,y_max_train)\n",
    "Next_Tmax_Accuracy = evaluate(Next_Tmax_TreeRegressor, X_test, y_max_test)\n",
    "\n",
    "base_max_model = RandomForestRegressor(n_estimators = 10, random_state = 42)\n",
    "base_max_model.fit(X_train, y_max_train)\n",
    "base_max_accuracy = evaluate(base_max_model, X_test, y_max_test)\n",
    "\n",
    "print('Improvement of {:0.2f}%.'.format( 100 * (Next_Tmax_Accuracy - base_max_accuracy) / base_max_accuracy))\n",
    "print(\"---------\")\n",
    "\n",
    "\n",
    "print(\"---Next_Tmin---\")\n",
    "Next_Tmin_TreeRegressor.fit(X_train,y_min_train)\n",
    "Next_Tmin_Accuracy = evaluate(Next_Tmin_TreeRegressor, X_test, y_min_test)\n",
    "\n",
    "base_min_model = RandomForestRegressor(n_estimators = 10, random_state = 42)\n",
    "base_min_model.fit(X_train, y_min_train)\n",
    "base_min_accuracy = evaluate(base_min_model, X_test, y_min_test)\n",
    "\n",
    "print('Improvement of {:0.2f}%.'.format( 100 * (Next_Tmin_Accuracy - base_min_accuracy) / base_min_accuracy))\n",
    "print(\"---------\")"
   ]
  },
  {
   "cell_type": "markdown",
   "metadata": {},
   "source": [
    "# Conclusion\n",
    "\n",
    "By using RandomForest, we can reach accuracies on both targets up to 97% (+/-0.65°C), which is truely decent."
   ]
  },
  {
   "cell_type": "markdown",
   "metadata": {},
   "source": []
  },
  {
   "cell_type": "code",
   "execution_count": null,
   "metadata": {},
   "outputs": [],
   "source": []
  }
 ],
 "metadata": {
  "kernelspec": {
   "display_name": "Python 3 (ipykernel)",
   "language": "python",
   "name": "python3"
  },
  "language_info": {
   "codemirror_mode": {
    "name": "ipython",
    "version": 3
   },
   "file_extension": ".py",
   "mimetype": "text/x-python",
   "name": "python",
   "nbconvert_exporter": "python",
   "pygments_lexer": "ipython3",
   "version": "3.9.7"
  }
 },
 "nbformat": 4,
 "nbformat_minor": 4
}
